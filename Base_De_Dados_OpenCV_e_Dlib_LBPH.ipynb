{
  "nbformat": 4,
  "nbformat_minor": 0,
  "metadata": {
    "colab": {
      "provenance": [],
      "authorship_tag": "ABX9TyPHGtXknuvMoHJkxlrudKKX",
      "include_colab_link": true
    },
    "kernelspec": {
      "name": "python3",
      "display_name": "Python 3"
    },
    "language_info": {
      "name": "python"
    }
  },
  "cells": [
    {
      "cell_type": "markdown",
      "metadata": {
        "id": "view-in-github",
        "colab_type": "text"
      },
      "source": [
        "<a href=\"https://colab.research.google.com/github/Sonryu/Computer-Vision-/blob/main/Base_De_Dados_OpenCV_e_Dlib_LBPH.ipynb\" target=\"_parent\"><img src=\"https://colab.research.google.com/assets/colab-badge.svg\" alt=\"Open In Colab\"/></a>"
      ]
    },
    {
      "cell_type": "code",
      "execution_count": 16,
      "metadata": {
        "colab": {
          "base_uri": "https://localhost:8080/"
        },
        "id": "1yRKxXF4d7hD",
        "outputId": "3404ffab-676b-430b-fd4d-95253aec0156"
      },
      "outputs": [
        {
          "output_type": "stream",
          "name": "stdout",
          "text": [
            "Drive already mounted at /content/drive; to attempt to forcibly remount, call drive.mount(\"/content/drive\", force_remount=True).\n"
          ]
        }
      ],
      "source": [
        "from PIL import Image\n",
        "import cv2\n",
        "import numpy as np\n",
        "from google.colab.patches import cv2_imshow\n",
        "from google.colab import drive\n",
        "drive.mount('/content/drive')"
      ]
    },
    {
      "cell_type": "code",
      "source": [
        "import zipfile\n",
        "path = '/content/drive/MyDrive/Visão Computacional Guia Completo-20220604T072031Z-001/Visão Computacional Guia Completo/Datasets/yalefaces.zip'\n",
        "zip_object = zipfile.ZipFile(file=path, mode = 'r')\n",
        "zip_object.extractall('./')\n",
        "zip_object.close()"
      ],
      "metadata": {
        "id": "ardsCs8YX3f8"
      },
      "execution_count": 18,
      "outputs": []
    },
    {
      "cell_type": "code",
      "source": [
        "import os\n",
        "\n",
        "def get_image_data():\n",
        "    paths = [os.path.join('/content/yalefaces/train', f) for f in os.listdir('/content/yalefaces/train')]\n",
        "    faces = []\n",
        "    ids = []\n",
        "    for path in paths:\n",
        "        #print(path)\n",
        "        imagem = Image.open(path).convert('L')\n",
        "        imagem_np = np.array(imagem, 'uint8')\n",
        "        id = int(os.path.split(path)[1].split('.')[0].replace('subject', ''))\n",
        "        print(id)\n",
        "        ids.append(id)\n",
        "        faces.append(imagem_np)\n",
        "    return np.array(ids), faces\n",
        "\n",
        "get_image_data()"
      ],
      "metadata": {
        "id": "Q_IQtGnvvNpw"
      },
      "execution_count": null,
      "outputs": []
    }
  ]
}